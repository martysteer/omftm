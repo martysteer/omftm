{
  "nbformat": 4,
  "nbformat_minor": 0,
  "metadata": {
    "colab": {
      "name": "Gwern GPT-2 Gutenberg Poetry Generator",
      "provenance": [],
      "collapsed_sections": [
        "ClJwpF_ACONp"
      ],
      "include_colab_link": true
    },
    "kernelspec": {
      "name": "python3",
      "display_name": "Python 3"
    },
    "accelerator": "GPU"
  },
  "cells": [
    {
      "cell_type": "markdown",
      "metadata": {
        "id": "view-in-github",
        "colab_type": "text"
      },
      "source": [
        "<a href=\"https://colab.research.google.com/github/martysteer/omftm/blob/master/Gwern_GPT_2_Gutenberg_Poetry_Generator.ipynb\" target=\"_parent\"><img src=\"https://colab.research.google.com/assets/colab-badge.svg\" alt=\"Open In Colab\"/></a>"
      ]
    },
    {
      "cell_type": "markdown",
      "metadata": {
        "id": "H7LoMj4GA4n_",
        "colab_type": "text"
      },
      "source": [
        "# Our Mutual Friend the Machine\n",
        "### [Being Human Festival](https://beinghumanfestival.org/event/our-mutual-friend-the-machine/), November 2019\n",
        "\n",
        "Run the cells below to setup the environment. You (currently) need to connect to martin.steer@sas.ac.uk's google drive, because the model files, metadata and logs are all kept there.\n",
        "\n",
        "This notebook uses [Gwern's Gutenberg Poetry model](https://www.gwern.net/GPT-2), which was trained on the [Gutenburg Poetry Corpus](https://doi.org/10.3389/fdigh.2018.00005) using [OpenAI's GPT-2 Transformer](https://openai.com/blog/better-language-models/) architecture for Natural Language Generation (NLG). This notebook was based on [Max Wolf's Google Colab notebook](https://minimaxir.com/2019/09/howto-gpt2/).\n",
        "\n",
        "The gutenburg metadata has been filtered to 19th Century authors/volumes.\n",
        "\n",
        "Enjoy!\n",
        "\n",
        "[Digital Humanities @SAS](https://www.sas.ac.uk/projects-and-initiatives/digital-humanities)\n"
      ]
    },
    {
      "cell_type": "markdown",
      "metadata": {
        "id": "YjyP1YuxFCoA",
        "colab_type": "text"
      },
      "source": [
        "##  Libraries and setup\n"
      ]
    },
    {
      "cell_type": "code",
      "metadata": {
        "id": "KBkpRgBCBS2_",
        "colab_type": "code",
        "colab": {}
      },
      "source": [
        "%tensorflow_version 1.x\n",
        "!pip install -q gpt-2-simple\n",
        "import gpt_2_simple as gpt2\n",
        "from datetime import datetime\n",
        "from google.colab import files\n",
        "\n",
        "import re\n",
        "import json\n",
        "import random"
      ],
      "execution_count": 0,
      "outputs": []
    },
    {
      "cell_type": "code",
      "metadata": {
        "id": "sUmTooTW3osf",
        "colab_type": "code",
        "outputId": "65de4b6c-3e8f-4f28-fa46-188f41ef209b",
        "colab": {
          "base_uri": "https://localhost:8080/",
          "height": 306
        }
      },
      "source": [
        "!nvidia-smi"
      ],
      "execution_count": 0,
      "outputs": [
        {
          "output_type": "stream",
          "text": [
            "Wed Nov 20 18:51:28 2019       \n",
            "+-----------------------------------------------------------------------------+\n",
            "| NVIDIA-SMI 430.50       Driver Version: 418.67       CUDA Version: 10.1     |\n",
            "|-------------------------------+----------------------+----------------------+\n",
            "| GPU  Name        Persistence-M| Bus-Id        Disp.A | Volatile Uncorr. ECC |\n",
            "| Fan  Temp  Perf  Pwr:Usage/Cap|         Memory-Usage | GPU-Util  Compute M. |\n",
            "|===============================+======================+======================|\n",
            "|   0  Tesla P100-PCIE...  Off  | 00000000:00:04.0 Off |                    0 |\n",
            "| N/A   41C    P0    27W / 250W |      0MiB / 16280MiB |      0%      Default |\n",
            "+-------------------------------+----------------------+----------------------+\n",
            "                                                                               \n",
            "+-----------------------------------------------------------------------------+\n",
            "| Processes:                                                       GPU Memory |\n",
            "|  GPU       PID   Type   Process name                             Usage      |\n",
            "|=============================================================================|\n",
            "|  No running processes found                                                 |\n",
            "+-----------------------------------------------------------------------------+\n"
          ],
          "name": "stdout"
        }
      ]
    },
    {
      "cell_type": "code",
      "metadata": {
        "id": "puq4iC6vUAHc",
        "colab_type": "code",
        "outputId": "0a290d2f-e484-40bc-9ba4-c42a1e9f6f54",
        "colab": {
          "base_uri": "https://localhost:8080/",
          "height": 122
        }
      },
      "source": [
        "gpt2.mount_gdrive()"
      ],
      "execution_count": 0,
      "outputs": [
        {
          "output_type": "stream",
          "text": [
            "Go to this URL in a browser: https://accounts.google.com/o/oauth2/auth?client_id=947318989803-6bn6qk8qdgf4n4g3pfee6491hc0brc4i.apps.googleusercontent.com&redirect_uri=urn%3aietf%3awg%3aoauth%3a2.0%3aoob&response_type=code&scope=email%20https%3a%2f%2fwww.googleapis.com%2fauth%2fdocs.test%20https%3a%2f%2fwww.googleapis.com%2fauth%2fdrive%20https%3a%2f%2fwww.googleapis.com%2fauth%2fdrive.photos.readonly%20https%3a%2f%2fwww.googleapis.com%2fauth%2fpeopleapi.readonly\n",
            "\n",
            "Enter your authorization code:\n",
            "··········\n",
            "Mounted at /content/drive\n"
          ],
          "name": "stdout"
        }
      ]
    },
    {
      "cell_type": "code",
      "metadata": {
        "id": "Id1bAPw1bVyX",
        "colab_type": "code",
        "colab": {}
      },
      "source": [
        "# This extracts 19th century authors metadata.\n",
        "\n",
        "!cp  ./drive/My\\ Drive/gutenbermetadata.json .\n",
        "\n",
        "with open('gutenbermetadata.json') as f:\n",
        "  metadata = json.load(f)\n",
        "\n",
        "\n",
        "# Save a reference list of 19th century authors\n",
        "ninteethnc = {}\n",
        "for item in metadata:\n",
        "    if 'Author Death' in item:\n",
        "        death = item['Author Death']\n",
        "        if len(death) > 0 and isinstance(item['Author Death'][0], int) and item['Author Death'][0] < 1900:\n",
        "            ninteethnc[int(item['Num'])] = item\n",
        "            \n",
        "with open('ninteenth-century-gutenberg-authors.txt', 'w') as f:\n",
        "    for gid, item in ninteethnc.items():\n",
        "        print(item['Num'], item['Author'][0], file=f)\n",
        "\n",
        "\n",
        "# Save a reference list of 19th century authors and their works\n",
        "auths = {}\n",
        "for aid, item in ninteethnc.items():\n",
        "    auths.setdefault(item['Author'][0],[]).append(item)\n",
        "    \n",
        "with open('ninteenth-century-gutenberg.txt', 'w') as f:\n",
        "    for aid, items in auths.items():\n",
        "        print(aid, file=f)\n",
        "        for item in items:\n",
        "            print(item['Num'], item['Title'][0], file=f)\n",
        "        print('', file=f)\n",
        "        print('', file=f)\n",
        "\n",
        "\n",
        "def gidsummary(gid):\n",
        "  auth = ninteethnc[gid]\n",
        "  out = ['=========', auth['Title'][0], auth['Author'][0]]\n",
        "  if 'LoC Class' in auth.keys() and len(auth['LoC Class']):\n",
        "    out += [auth['LoC Class'][0]]\n",
        "  return out"
      ],
      "execution_count": 0,
      "outputs": []
    },
    {
      "cell_type": "markdown",
      "metadata": {
        "id": "uiUjDA3ZSkRU",
        "colab_type": "text"
      },
      "source": [
        "Setup the logging. All poems which are generated and the input parameters are logged to google drive."
      ]
    },
    {
      "cell_type": "code",
      "metadata": {
        "id": "wt3DIAetSikC",
        "colab_type": "code",
        "colab": {}
      },
      "source": [
        "import logging\n",
        "import uuid\n",
        "\n",
        "# Each time you run the notebook we generate a UUID and use this is the logfiles.\n",
        "notebookuuid = str(uuid.uuid4())\n",
        "\n",
        "logging.basicConfig(filename='./drive/My Drive/logs/log.' + notebookuuid + '.txt',\n",
        "                    filemode='a',\n",
        "                    format='%(asctime)s,%(msecs)d %(name)s %(levelname)s %(message)s',\n",
        "                    datefmt='%H:%M:%S',\n",
        "                    level=logging.INFO)\n",
        "\n",
        "gpt2poetrylogger = logging.getLogger('gpt-2-poetry' + notebookuuid) "
      ],
      "execution_count": 0,
      "outputs": []
    },
    {
      "cell_type": "code",
      "metadata": {
        "id": "4SfHKeXJSUC-",
        "colab_type": "code",
        "colab": {}
      },
      "source": [
        "def formatGPToutput(samplelist, numPoems=10, logger=None):\n",
        "  '''\n",
        "  This formats the output. Strips the gutenburg id from the start of each line\n",
        "  and looks up this author's metadata.\n",
        "  '''\n",
        "  if not logger:\n",
        "    logger = logging.getLogger('gpt-2-poetry' + notebookuuid)\n",
        "  \n",
        "  for poem in random.sample(samplelist, numPoems):\n",
        "      alllines = re.findall('([0-9]+)?\\|?(.*)', poem)\n",
        "      gid = int(list(set(g[0] for g in alllines if g[0]))[0])\n",
        "      lines = [l[1] for l in alllines if l[1]]\n",
        "\n",
        "      logger.info('Gutenburg ID: ' + str(gid))\n",
        "      \n",
        "      # If it is 19th C, print poem, else skip.\n",
        "      # The metadata will\n",
        "      if gid in ninteethnc.keys():\n",
        "        logger.info(gidsummary(gid))\n",
        "        print('\\n\\r'.join(gidsummary(gid)))\n",
        "        print('---')\n",
        "        print('\\n\\r'.join(lines), '...')\n",
        "        print()\n",
        "      else:\n",
        "        logger.info('Not C19th')\n",
        "        \n",
        "      # Log all poems\n",
        "      logger.info(lines)"
      ],
      "execution_count": 0,
      "outputs": []
    },
    {
      "cell_type": "code",
      "metadata": {
        "id": "CR1yrc81UmDB",
        "colab_type": "code",
        "colab": {}
      },
      "source": [
        "def generatePoetry(seedLine, authorid=None, numPoems=10, poemlength=100, logger=None):\n",
        "  '''\n",
        "  This does what it says, but it also logs the parameters which \n",
        "  were used to generate the poetry.\n",
        "  '''\n",
        "  if not logger:\n",
        "    logger = logging.getLogger('gpt-2-poetry' + notebookuuid)\n",
        "  \n",
        "  logger.info('========================')\n",
        "  logger.info('Running generatepoetry()')\n",
        "  logger.info('Seedline: ' + seedLine)\n",
        "  logger.info('Author GID: ' + authorid)\n",
        "  logger.info('Poem length: '+ str(poemlength))\n",
        "  logger.info('Num Poems: '+ str(numPoems))\n",
        "  \n",
        "  if authorid:\n",
        "    seedLine = str(authorid) + '|' + seedLine\n",
        "    \n",
        "  samples = gpt2.generate(sess,\n",
        "              length=poemlength,\n",
        "              temperature=0.95,\n",
        "              run_name=run_name,\n",
        "              prefix=seedLine,\n",
        "              return_as_list=True,\n",
        "              nsamples=10,  # always 10, but the format function will limit\n",
        "              batch_size=5,\n",
        "              top_k=40, \n",
        "  #               top_p=0.4\n",
        "              )\n",
        "  return formatGPToutput(samples, numPoems, logger)"
      ],
      "execution_count": 0,
      "outputs": []
    },
    {
      "cell_type": "markdown",
      "metadata": {
        "id": "pel-uBULXO2L",
        "colab_type": "text"
      },
      "source": [
        "## Load a Trained Model Checkpoint\n",
        "\n",
        "Running the next cell will copy the `.rar` checkpoint file from Google Drive into the Colaboratory VM."
      ]
    },
    {
      "cell_type": "code",
      "metadata": {
        "id": "fsM2q5k5aETR",
        "colab_type": "code",
        "colab": {}
      },
      "source": [
        "# Copy the poetry prefix model built by Gwern Branwen\n",
        "poetryprefix = \"345M_poetry\"\n",
        "# poetryprefix = \"gwern\"\n",
        "run_name = poetryprefix"
      ],
      "execution_count": 0,
      "outputs": []
    },
    {
      "cell_type": "code",
      "metadata": {
        "id": "DCcx5u7sbPTD",
        "colab_type": "code",
        "colab": {}
      },
      "source": [
        "gpt2.copy_checkpoint_from_gdrive(run_name=run_name)"
      ],
      "execution_count": 0,
      "outputs": []
    },
    {
      "cell_type": "markdown",
      "metadata": {
        "id": "RTa6zf3e_9gV",
        "colab_type": "text"
      },
      "source": [
        "The next cell will allow you to load the retrained model checkpoint + metadata necessary to generate text.\n",
        "\n",
        "**IMPORTANT NOTE:** If you want to rerun this cell, **restart the VM first** (Runtime -> Restart Runtime). You will need to rerun imports but not recopy files."
      ]
    },
    {
      "cell_type": "code",
      "metadata": {
        "id": "-fxL77nvAMAX",
        "colab_type": "code",
        "outputId": "6c0bfbc4-ecba-4558-a219-b3f182a0d314",
        "colab": {
          "base_uri": "https://localhost:8080/",
          "height": 51
        }
      },
      "source": [
        "sess = gpt2.start_tf_sess()\n",
        "gpt2.load_gpt2(sess, run_name=run_name)"
      ],
      "execution_count": 0,
      "outputs": [
        {
          "output_type": "stream",
          "text": [
            "Loading checkpoint checkpoint/345M_poetry/model-815326\n",
            "INFO:tensorflow:Restoring parameters from checkpoint/345M_poetry/model-815326\n"
          ],
          "name": "stdout"
        }
      ]
    },
    {
      "cell_type": "markdown",
      "metadata": {
        "id": "CMc-KveLFVZr",
        "colab_type": "text"
      },
      "source": [
        "## GPT-2 19th Century Literature poem generator\n",
        "Choose from the list of 19th century project gutenburg poets and generate some poetry! Try to use the last line of one poem as the starting line of the second poem, and experiment with different styles.\n",
        "\n",
        "Copy/Paste the ones you like into a [google doc](https://drive.google.com/drive/u/0/my-drive), edit it, clean it up a little bit, change some words here and there... and ask us to print it out!"
      ]
    },
    {
      "cell_type": "code",
      "metadata": {
        "id": "aRZny_YfQKLZ",
        "colab_type": "code",
        "cellView": "form",
        "outputId": "0e0de149-5ac0-4b39-e21a-a1f41c6fe791",
        "colab": {
          "base_uri": "https://localhost:8080/",
          "height": 1000
        }
      },
      "source": [
        "#@markdown ---\n",
        "#@markdown ### Configure your poem:\n",
        "Poem_start = \"Seaside as evening, raining\" #@param {type:\"string\"}\n",
        "Poem_length = \"100\" #@param ['20','50','100','150','200','300','500','1000']\n",
        "Number_of_poems = \"10\" #@param ['1', '2', '5', '10', '20']\n",
        "In_the_style_of = \"51120 John Keats, Po\\xE8mes et Po\\xE9sies Traduction pr\\xE9c\\xE9d\\xE9e d'une \\xE9tude par Paul Gallimard\" #@param [\"4212 Matthew Arnold, Culture and Anarchy\", \"5159 Matthew Arnold, Celtic Literature\", \"27739 Matthew Arnold, Poetical Works of Matthew Arnold\", \"4253 Robert Browning, Dramatic Romances\", \"16376 Robert Browning, Browning's Shorter Poems\", \"18343 Robert Browning, The Pied Piper of Hamelin\", \"50954 Robert Browning, The Complete Poetic and Dramatic Works of, Cambridge Edition\", \"11 Lewis Carroll, Alice's Adventures in Wonderland\", \"651 Lewis Carroll, Phantasmagoria and Other Poems\", \"4763 Lewis Carroll, The Game of Logic\", \"28696 Lewis Carroll, Symbolic Logic\", \"33582 Lewis Carroll, Rhyme? And Reason?\", \"8209 John Keats, Poems 1817\", \"23684 John Keats, Keats: Poems Published in 1820\", \"24280 John Keats, Endymion A Poetic Romance\", \"51120 John Keats, Poèmes et Poésies Traduction précédée d'une étude par Paul Gallimard\", \"982 Edward Lear, The Book of Nonsense\", \"13649 Edward Lear, Laughable Lyrics\", \"20113 Edward Lear, Nonsense Drolleries The Owl & The Pussy-Cat—The Duck & The Kangaroo.\", \"34906 Edward Lear, The Jumblies, and Other Nonsense Verses\", \"4654 Percy Bysshe Shelley, The Daemon of the World\", \"4696 Percy Bysshe Shelley, The Witch of Atlas\", \"4800 Percy Bysshe Shelley, The Complete Poetical Works of\", \"5428 Percy Bysshe Shelley, A Defence of Poetry and Other Essays\", \"1322 Walt Whitman, Leaves of Grass\", \"8388 Walt Whitman, Poems By\", \"8801 Walt Whitman, Drum Taps\", \"8813 Walt Whitman, Complete Prose Works Specimen Days and Collect, November Boughs and Goodbye My Fancy\", \"27494 Walt Whitman, The Patriotic Poems of\", \"47846 Walt Whitman, Poèmes de\"]\n",
        "\n",
        "\n",
        "\n",
        "\n",
        "\n",
        "generatePoetry(Poem_start, \n",
        "               authorid=In_the_style_of.split(' ')[0], \n",
        "               poemlength=int(Poem_length), \n",
        "               numPoems=int(Number_of_poems))"
      ],
      "execution_count": 0,
      "outputs": [
        {
          "output_type": "stream",
          "text": [
            "=========\n",
            "\rPoèmes et Poésies\tTraduction précédée d'une étude par Paul Gallimard\n",
            "\rJohn Keats\n",
            "---\n",
            "Seaside as evening, raining tears.\n",
            "\rThe rich and rare the Muse has found\n",
            "\rOf varied talents, in thy mind;\n",
            "\rBut never can the Muse of gold\n",
            "\rDelight her slave with one contralto's lay.\n",
            "\rBut I have heard them sung by others' voice,\n",
            "\rAnd by my master's, and the muse's;\n",
            "\rAnd though with every instrument\n",
            "\rThey make the praise ...\n",
            "\n",
            "=========\n",
            "\rPoèmes et Poésies\tTraduction précédée d'une étude par Paul Gallimard\n",
            "\rJohn Keats\n",
            "---\n",
            "Seaside as evening, raining clouds,--\n",
            "\rAnd, as the clouds decline, the tempests roar.\n",
            "\rThese fowls must be of rare and potent breed.\n",
            "\rI hate that bird of all the fowls divine.\n",
            "\rBut though such fowls are so rare and potent;\n",
            "\rYet will I not so much shun as despise;\n",
            "\rWhile the world with its ogling crew contend.\n",
            "\rIn ...\n",
            "\n",
            "=========\n",
            "\rPoèmes et Poésies\tTraduction précédée d'une étude par Paul Gallimard\n",
            "\rJohn Keats\n",
            "---\n",
            "Seaside as evening, raining pearls,\n",
            "\r'Mid the wild, glad hills of May.\n",
            "\rSo there they stayed, like lovely bees\n",
            "\rSpreading honey to the breeze,\n",
            "\rWhile the stars and roses, blooming,\n",
            "\rCame a-dropping, flowing, and green,\n",
            "\rDancing in the balsam.\n",
            "\rLike the stars they shone, and when\n",
            "\rSome love-tale ...\n",
            "\n",
            "=========\n",
            "\rPoèmes et Poésies\tTraduction précédée d'une étude par Paul Gallimard\n",
            "\rJohn Keats\n",
            "---\n",
            "Seaside as evening, raining showers\n",
            "\rFrom the green banks of his flowing stream,\n",
            "\rBeneath him, the sea, above him, the sky:\n",
            "\rAnd 'mong the rocks, the rocks in beauty,\n",
            "\rLone sea-wall, solitary giant,\n",
            "\rSullen rocks, craggy cliff, and craggy brow,\n",
            "\rHanging by the light of his golden hair.\n",
            "\rIn vain ...\n",
            "\n",
            "=========\n",
            "\rPoèmes et Poésies\tTraduction précédée d'une étude par Paul Gallimard\n",
            "\rJohn Keats\n",
            "---\n",
            "Seaside as evening, raining showers\n",
            "\rTheir kisses of amber rain,\n",
            "\rCaught him by the sleeve and threw him down,\n",
            "\rAnd he lay there, on his green bed:\n",
            "\rAnd they said 'Alas, young man, that thou art dead,\n",
            "\rThat thou hadst lived--thou hadst lived to play\n",
            "\rAnd have a soul as tender and clean as thine!'\n",
            "\rAnd some said ' ...\n",
            "\n",
            "=========\n",
            "\rPoèmes et Poésies\tTraduction précédée d'une étude par Paul Gallimard\n",
            "\rJohn Keats\n",
            "---\n",
            "Seaside as evening, raining down--\n",
            "\rIn this same, old-favour'd shore, a dream\n",
            "\rThat I would see it first-hand:\n",
            "\rThe first-class port at which my vessels roam,\n",
            "\rAnd, on some day, I can't bring my 'uns\n",
            "\rInto this glorious home.\n",
            "\rThe ship is in my hand, the sails are spread\n",
            "\rUpon the blue horizon's ring-- ...\n",
            "\n",
            "=========\n",
            "\rPoèmes et Poésies\tTraduction précédée d'une étude par Paul Gallimard\n",
            "\rJohn Keats\n",
            "---\n",
            "Seaside as evening, raining down\n",
            "\rPale lightnings, and their fiery glow\n",
            "\rFlaring the heavens, or if some fiercer blaze\n",
            "\rMore glorious burn in the west, then here\n",
            "\rSeemed fiery Juno to be shown,\n",
            "\rWhile fiery Mars with eager rage\n",
            "\rTo Juno's aid urged his raging horse;\n",
            "\rOr if the north, where winds incessant blow,\n",
            "\rHis eyes be ...\n",
            "\n",
            "=========\n",
            "\rPoèmes et Poésies\tTraduction précédée d'une étude par Paul Gallimard\n",
            "\rJohn Keats\n",
            "---\n",
            "Seaside as evening, raining down\n",
            "\rBeauty and love, the light-hearted crew\n",
            "\rCradled their baby boys with care.\n",
            "\rMournful and pale the children lay:\n",
            "\rThe mother watched them with a smile.\n",
            "\rAway the mother hied: to sleep\n",
            "\rThat man, the lover, loved too well.\n",
            "\rSoothed by the gentle nectar's lullaby\n",
            "\rThe ...\n",
            "\n",
            "=========\n",
            "\rPoèmes et Poésies\tTraduction précédée d'une étude par Paul Gallimard\n",
            "\rJohn Keats\n",
            "---\n",
            "Seaside as evening, raining smiles.\n",
            "\rBut he that now had taken my love,\n",
            "\rDid but in this dark hour repose,\n",
            "\rThat this short pause, at least, might seem\n",
            "\rAt least eternity:\n",
            "\rWhat could he better do, than sleep,\n",
            "\rWhen he at least had a delight?\n",
            "\rBut a new lover came, and found\n",
            "\r(I have forgotten who) our bliss, ...\n",
            "\n",
            "=========\n",
            "\rPoèmes et Poésies\tTraduction précédée d'une étude par Paul Gallimard\n",
            "\rJohn Keats\n",
            "---\n",
            "Seaside as evening, raining down\n",
            "\rHer beauty and her grace.\n",
            "\rThen, in the moonlight,\n",
            "\rAs the white sea's foam is seen\n",
            "\rHer silver sunbeam shines.\n",
            "\rThen as the twilight\n",
            "\rFades from the landscape\n",
            "\rWe see that lovely face at last\n",
            "\rGrief hath fled forever,\n",
            "\rAnd she must smile in heaven\n",
            "\rThe beauty that she ...\n",
            "\n"
          ],
          "name": "stdout"
        }
      ]
    },
    {
      "cell_type": "code",
      "metadata": {
        "id": "t3UMZTQ4HnmW",
        "colab_type": "code",
        "colab": {}
      },
      "source": [
        ""
      ],
      "execution_count": 0,
      "outputs": []
    },
    {
      "cell_type": "markdown",
      "metadata": {
        "id": "ClJwpF_ACONp",
        "colab_type": "text"
      },
      "source": [
        "### Other code examples"
      ]
    },
    {
      "cell_type": "code",
      "metadata": {
        "id": "-0SinQiAZ6a6",
        "colab_type": "code",
        "colab": {}
      },
      "source": [
        "# You can seed the next verse using mutliple lines from the prior verse, to help carry some of the context forward.\n",
        "# Or you can paste multiline text in (a whole verse for example) to experiment.\n",
        "\n",
        "firstLine = '''How Nehru cuts a mango --\n",
        "Your method, Nusrat begum,\n",
        "must be improved-\n",
        "if you want to have it all.\n",
        "Balance the mango on it's heel\n",
        "'''\n",
        "authorid = 24280  # John Keats, Endymion A Poetic Romance\n",
        "\n",
        "generatePoetry(firstLine, authorid=authorid, poemlength=200, numPoems=10)"
      ],
      "execution_count": 0,
      "outputs": []
    },
    {
      "cell_type": "markdown",
      "metadata": {
        "id": "Ln32y7W0cn_I",
        "colab_type": "text"
      },
      "source": [
        "."
      ]
    },
    {
      "cell_type": "markdown",
      "metadata": {
        "id": "wmTXWNUygS5E",
        "colab_type": "text"
      },
      "source": [
        "# LICENSE\n",
        "\n",
        "MIT License\n",
        "\n",
        "Copyright (c) 2019 Max Woolf\n",
        "\n",
        "Permission is hereby granted, free of charge, to any person obtaining a copy\n",
        "of this software and associated documentation files (the \"Software\"), to deal\n",
        "in the Software without restriction, including without limitation the rights\n",
        "to use, copy, modify, merge, publish, distribute, sublicense, and/or sell\n",
        "copies of the Software, and to permit persons to whom the Software is\n",
        "furnished to do so, subject to the following conditions:\n",
        "\n",
        "The above copyright notice and this permission notice shall be included in all\n",
        "copies or substantial portions of the Software.\n",
        "\n",
        "THE SOFTWARE IS PROVIDED \"AS IS\", WITHOUT WARRANTY OF ANY KIND, EXPRESS OR\n",
        "IMPLIED, INCLUDING BUT NOT LIMITED TO THE WARRANTIES OF MERCHANTABILITY,\n",
        "FITNESS FOR A PARTICULAR PURPOSE AND NONINFRINGEMENT. IN NO EVENT SHALL THE\n",
        "AUTHORS OR COPYRIGHT HOLDERS BE LIABLE FOR ANY CLAIM, DAMAGES OR OTHER\n",
        "LIABILITY, WHETHER IN AN ACTION OF CONTRACT, TORT OR OTHERWISE, ARISING FROM,\n",
        "OUT OF OR IN CONNECTION WITH THE SOFTWARE OR THE USE OR OTHER DEALINGS IN THE\n",
        "SOFTWARE."
      ]
    },
    {
      "cell_type": "code",
      "metadata": {
        "id": "cruxgd9qT14N",
        "colab_type": "code",
        "colab": {}
      },
      "source": [
        ""
      ],
      "execution_count": 0,
      "outputs": []
    }
  ]
}